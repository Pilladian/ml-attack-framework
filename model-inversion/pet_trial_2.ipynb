{
 "cells": [
  {
   "cell_type": "code",
   "execution_count": 1,
   "metadata": {
    "id": "No3cwv6hWMJ0"
   },
   "outputs": [],
   "source": [
    "import torchvision\n",
    "from torchvision.datasets import ImageFolder\n",
    "from torchvision.transforms import ToTensor\n",
    "import torchvision.transforms as transforms\n",
    "import matplotlib.pyplot as plt\n",
    "from sklearn.model_selection import train_test_split\n",
    "from keras.preprocessing.image import ImageDataGenerator\n",
    "from torch.utils.data import DataLoader"
   ]
  },
  {
   "cell_type": "code",
   "execution_count": 2,
   "metadata": {
    "id": "nT2zhTlp0nmE"
   },
   "outputs": [
    {
     "name": "stderr",
     "output_type": "stream",
     "text": [
      "C:\\Users\\Moon\\Anaconda3\\envs\\deeplearning\\lib\\site-packages\\torch\\cuda\\__init__.py:52: UserWarning: CUDA initialization: The NVIDIA driver on your system is too old (found version 10010). Please update your GPU driver by downloading and installing a new version from the URL: http://www.nvidia.com/Download/index.aspx Alternatively, go to: https://pytorch.org to install a PyTorch version that has been compiled with your version of the CUDA driver. (Triggered internally at  ..\\c10\\cuda\\CUDAFunctions.cpp:109.)\n",
      "  return torch._C._cuda_getDeviceCount() > 0\n"
     ]
    }
   ],
   "source": [
    "from __future__ import print_function, division\n",
    "\n",
    "import torch\n",
    "import torch.nn as nn\n",
    "import torch.optim as optim\n",
    "from torch.optim import lr_scheduler\n",
    "import numpy as np\n",
    "import torchvision\n",
    "from torchvision import datasets, models, transforms\n",
    "from torch.utils.data import Subset, Dataset, DataLoader\n",
    "import matplotlib.pyplot as plt\n",
    "import time\n",
    "import os\n",
    "import copy\n",
    "import pandas as pd\n",
    "import random\n",
    "import torchvision.transforms as transforms\n",
    "\n",
    "plt.ion()   # interactive mode\n",
    "device = torch.device(\"cuda:0\" if torch.cuda.is_available() else \"cpu\")"
   ]
  },
  {
   "cell_type": "code",
   "execution_count": 3,
   "metadata": {
    "id": "fRTHWYgq0ueJ"
   },
   "outputs": [],
   "source": [
    "\"\"\" LeNet architecture implementation\n",
    "\"\"\"\n",
    "from torch import nn, optim\n",
    "from torch.autograd import Variable\n",
    "import torch.nn.functional as F\n",
    "\n",
    "class LeNet(nn.Module):\n",
    "    def __init__(self):\n",
    "        super(LeNet, self).__init__()\n",
    "        self.conv1 = nn.Conv2d(in_channels=3, out_channels =6, kernel_size= (5,5), padding=2)\n",
    "        self.conv2 = nn.Conv2d(in_channels = 6, out_channels= 16, kernel_size= (5,5))\n",
    "        self.fc1   = nn.Linear(16*21*26 , 8736)\n",
    "        self.fc2   = nn.Linear(8736, 84)\n",
    "        self.fc3   = nn.Linear(84, 40)\n",
    "        \n",
    "    def forward(self, x):\n",
    "        x = F.relu(self.conv1(x))\n",
    "        x = F.max_pool2d(x, (2,2))\n",
    "#         x = F.max_pool2d(F.relu(self.conv1(x)), (2,2))\n",
    "        x = F.max_pool2d(F.relu(self.conv2(x)), (2,2))\n",
    "        x = x.view(-1, 16 * 21* 26)\n",
    "#         print(x.shape)\n",
    "        # return x\n",
    "        x = F.relu(self.fc1(x))\n",
    "        x = F.relu(self.fc2(x))\n",
    "        x = self.fc3(x)\n",
    "        return x\n",
    "    \n",
    "    def num_flat_features(self, x):\n",
    "        size = x.size()[1:]\n",
    "        num_features = 2\n",
    "        for s in size:\n",
    "            num_features *= s\n",
    "        return num_features"
   ]
  },
  {
   "cell_type": "code",
   "execution_count": 4,
   "metadata": {
    "colab": {
     "base_uri": "https://localhost:8080/"
    },
    "id": "WPO1IVKOv-Tg",
    "outputId": "f225d9d2-6165-4fc6-b333-4328bbdcd19e"
   },
   "outputs": [
    {
     "name": "stdout",
     "output_type": "stream",
     "text": [
      "----------------------------------------------------------------\n",
      "        Layer (type)               Output Shape         Param #\n",
      "================================================================\n",
      "            Conv2d-1           [-1, 6, 92, 112]             456\n",
      "            Conv2d-2           [-1, 16, 42, 52]           2,416\n",
      "            Linear-3                 [-1, 8736]      76,326,432\n",
      "            Linear-4                   [-1, 84]         733,908\n",
      "            Linear-5                   [-1, 40]           3,400\n",
      "================================================================\n",
      "Total params: 77,066,612\n",
      "Trainable params: 77,066,612\n",
      "Non-trainable params: 0\n",
      "----------------------------------------------------------------\n",
      "Input size (MB): 0.12\n",
      "Forward/backward pass size (MB): 0.81\n",
      "Params size (MB): 293.99\n",
      "Estimated Total Size (MB): 294.91\n",
      "----------------------------------------------------------------\n"
     ]
    }
   ],
   "source": [
    "from torchsummary import summary\n",
    "\n",
    "model = LeNet()\n",
    "\n",
    "summary(model, (3, 92, 112))"
   ]
  },
  {
   "cell_type": "code",
   "execution_count": 5,
   "metadata": {
    "id": "65iwyfup0xlp"
   },
   "outputs": [],
   "source": [
    "def weight_inits(m):\n",
    "    if isinstance(m, nn.Conv2d):\n",
    "        torch.nn.init.xavier_normal_(m.weight)\n",
    "    \n",
    "    if isinstance(m, nn.Linear):\n",
    "        torch.nn.init.xavier_normal_(m.weight)"
   ]
  },
  {
   "cell_type": "code",
   "execution_count": 6,
   "metadata": {
    "id": "3q9dcvKy03Nt"
   },
   "outputs": [],
   "source": [
    "def train_model(model, criterion, optimizer, data_loader, scheduler, num_epochs=20):\n",
    "    since = time.time()\n",
    "\n",
    "    best_model_wts = copy.deepcopy(model.state_dict())\n",
    "    best_acc = 0.0\n",
    "\n",
    "    for epoch in range(num_epochs):\n",
    "        print('Epoch {}/{}'.format(epoch, num_epochs - 1))\n",
    "        print('-' * 10)\n",
    "\n",
    "        # Each epoch has a training and validation phase\n",
    "        for phase in ['train']:\n",
    "            \n",
    "            if phase == 'train':\n",
    "                model.train()  # Set model to training mode\n",
    "                \n",
    "                running_loss = 0.0\n",
    "                running_corrects = 0\n",
    "                \n",
    "                for data in data_loader:\n",
    "                    inputs, labels = data\n",
    "                    inputs = inputs.to(device)\n",
    "                    labels = labels.to(device)\n",
    "#                     print(inputs.shape, labels.shape)\n",
    "                    \n",
    "                    optimizer.zero_grad()\n",
    "                    with torch.set_grad_enabled(True):\n",
    "                        outputs = model(inputs)\n",
    "#                         print(outputs.shape)\n",
    "                        _, preds = torch.max(outputs, 1)\n",
    "#                         print(preds, labels)\n",
    "                        loss = criterion(outputs, labels)\n",
    "                        \n",
    "                        loss.backward()\n",
    "                        optimizer.step()\n",
    "                    \n",
    "                    running_loss += loss.item() * inputs.size(0)\n",
    "                    running_corrects += torch.sum(preds == labels.data)\n",
    "                    \n",
    "                scheduler.step()\n",
    "                \n",
    "                epoch_loss = running_loss / train_size\n",
    "                epoch_acc = running_corrects.double() / train_size\n",
    "\n",
    "                print('{} Loss: {:.4f} Acc: {:.4f}'.format('Train', epoch_loss, epoch_acc))"
   ]
  },
  {
   "cell_type": "code",
   "execution_count": 7,
   "metadata": {
    "id": "vbP_VixA08BT"
   },
   "outputs": [],
   "source": [
    "def test_model(model, criterion, optimizer, data_loader):\n",
    "    model.eval()   # Set model to evaluate mode\n",
    "                \n",
    "    running_loss = 0.0\n",
    "    running_corrects = 0\n",
    "\n",
    "    for data in data_loader:\n",
    "        inputs, labels = data\n",
    "        inputs = inputs.to(device)\n",
    "        labels = labels.to(device)\n",
    "#         print(inputs.shape, labels.shape)\n",
    "        optimizer.zero_grad()\n",
    "        with torch.set_grad_enabled(False):\n",
    "            outputs = model(inputs)\n",
    "            _, preds = torch.max(outputs, 1)\n",
    "\n",
    "            loss = criterion(outputs, labels)\n",
    "\n",
    "        running_loss += loss.item() * inputs.size(0)\n",
    "        running_corrects += torch.sum(preds == labels.data)\n",
    "\n",
    "    epoch_loss = running_loss / test_size\n",
    "    epoch_acc = running_corrects.double() / test_size\n",
    "\n",
    "    print('{} Loss: {:.4f} Acc: {:.4f}'.format('Val', epoch_loss, epoch_acc))"
   ]
  },
  {
   "cell_type": "code",
   "execution_count": 8,
   "metadata": {
    "id": "NPXSRfXD2IE3"
   },
   "outputs": [],
   "source": [
    "transform = transforms.Compose(\n",
    "    [transforms.ToTensor(),\n",
    "     transforms.Normalize((0.5, 0.5, 0.5), (0.5, 0.5, 0.5))])\n",
    "\n",
    "dir = \"/UdS Study/SuSe 2021/PET/project/att_faces\"\n",
    "\n",
    "orig_set  = ImageFolder(root=dir, transform=transform)\n",
    "n = len(orig_set) \n",
    "n_test = int(0.1 * n)  # take ~30% for test\n",
    "test_dataset = torch.utils.data.Subset(orig_set, range(n_test))  # take first 30%\n",
    "testloader = torch.utils.data.DataLoader(test_dataset, batch_size=32,\n",
    "                                         shuffle=False, num_workers=2)\n",
    "\n",
    "train_dataset = torch.utils.data.Subset(orig_set, range(n_test, n))  # take the rest 70%\n",
    "trainloader = torch.utils.data.DataLoader(train_dataset, batch_size=32,\n",
    "                                          shuffle=True, num_workers=2)\n"
   ]
  },
  {
   "cell_type": "code",
   "execution_count": 67,
   "metadata": {},
   "outputs": [
    {
     "name": "stdout",
     "output_type": "stream",
     "text": [
      "40\n"
     ]
    }
   ],
   "source": [
    "# for x in range(40):\n",
    "#     print(\"Index: \", x)\n",
    "#     print(orig_set.classes[x])\n",
    "print(len(orig_set.classes))"
   ]
  },
  {
   "cell_type": "code",
   "execution_count": 9,
   "metadata": {
    "colab": {
     "base_uri": "https://localhost:8080/"
    },
    "id": "R6RALAey48Uw",
    "outputId": "782eae80-8c09-48ba-8ef7-107930e5b6e7"
   },
   "outputs": [
    {
     "name": "stdout",
     "output_type": "stream",
     "text": [
      "torch.Size([32, 3, 112, 92]) torch.Size([32])\n"
     ]
    }
   ],
   "source": [
    "for data in trainloader:\n",
    "  x, y = data\n",
    "  print(x.shape, y.shape)\n",
    "  break"
   ]
  },
  {
   "cell_type": "code",
   "execution_count": 10,
   "metadata": {
    "colab": {
     "base_uri": "https://localhost:8080/",
     "height": 442
    },
    "id": "nT7u8Pdd-8bT",
    "outputId": "1a5cf6a0-1fdd-4820-d7b4-c20d77ba8eef"
   },
   "outputs": [
    {
     "name": "stdout",
     "output_type": "stream",
     "text": [
      "Epoch 0/9\n",
      "----------\n",
      "Train Loss: 5.2190 Acc: 0.0333\n",
      "Epoch 1/9\n",
      "----------\n",
      "Train Loss: 3.5273 Acc: 0.0972\n",
      "Epoch 2/9\n",
      "----------\n",
      "Train Loss: 3.2164 Acc: 0.1417\n",
      "Epoch 3/9\n",
      "----------\n",
      "Train Loss: 2.8173 Acc: 0.2222\n",
      "Epoch 4/9\n",
      "----------\n",
      "Train Loss: 2.3671 Acc: 0.3083\n",
      "Epoch 5/9\n",
      "----------\n",
      "Train Loss: 1.9233 Acc: 0.4417\n",
      "Epoch 6/9\n",
      "----------\n",
      "Train Loss: 1.5351 Acc: 0.5444\n",
      "Epoch 7/9\n",
      "----------\n",
      "Train Loss: 1.2777 Acc: 0.6139\n",
      "Epoch 8/9\n",
      "----------\n",
      "Train Loss: 1.1136 Acc: 0.6778\n",
      "Epoch 9/9\n",
      "----------\n",
      "Train Loss: 1.0367 Acc: 0.6972\n"
     ]
    }
   ],
   "source": [
    "train_size = len(train_dataset)\n",
    "test_size = len(test_dataset)\n",
    "# net = torch.load('LeNet_5_class_pretrained_model.tar')\n",
    "net = LeNet()\n",
    "net.apply(weight_inits)\n",
    "\n",
    "criterion = nn.CrossEntropyLoss()\n",
    "\n",
    "# Observe that all parameters are being optimized\n",
    "optimizer_ft = optim.Adam(net.parameters(), lr=0.001)\n",
    "\n",
    "# Decay LR by a factor of 0.1 every 7 epochs\n",
    "exp_lr_scheduler = lr_scheduler.StepLR(optimizer_ft, step_size=7, gamma=0.1)\n",
    "\n",
    "train_model(net, criterion, optimizer_ft, trainloader, exp_lr_scheduler,\n",
    "                       num_epochs=10)"
   ]
  },
  {
   "cell_type": "code",
   "execution_count": 11,
   "metadata": {},
   "outputs": [
    {
     "name": "stdout",
     "output_type": "stream",
     "text": [
      "Val Loss: 13.6944 Acc: 0.0000\n"
     ]
    }
   ],
   "source": [
    "test_model(net, criterion, optimizer_ft, testloader)"
   ]
  },
  {
   "cell_type": "code",
   "execution_count": 12,
   "metadata": {},
   "outputs": [],
   "source": [
    "def image_train(x, y, optimizer, model, epoch=1000):\n",
    "    model.eval()\n",
    "    \n",
    "    for i in range(epoch):\n",
    "        optimizer.zero_grad()\n",
    "        logits = model(x)\n",
    "        \n",
    "        prob = torch.softmax(logits, -1)\n",
    "        loss = y * prob.log()\n",
    "        loss = - loss.sum(-1).mean()\n",
    "        \n",
    "        loss.backward()\n",
    "        optimizer.step()\n",
    "        if i % 100 == 0:\n",
    "            print('loss', loss.item())\n",
    "            \n",
    "    print(\"Image training finished...\")\n",
    "    x = torch.tanh(x)\n",
    "    return x,y"
   ]
  },
  {
   "cell_type": "code",
   "execution_count": 26,
   "metadata": {},
   "outputs": [
    {
     "name": "stdout",
     "output_type": "stream",
     "text": [
      "loss 41.283138275146484\n",
      "loss 14.152406692504883\n",
      "loss 5.91408109664917\n",
      "loss 3.4822232723236084\n",
      "loss 2.7735371589660645\n",
      "loss 2.1570725440979004\n",
      "loss 1.8482015132904053\n",
      "loss 1.8191014528274536\n",
      "loss 1.8179762363433838\n",
      "loss 1.8179750442504883\n",
      "Image training finished...\n"
     ]
    }
   ],
   "source": [
    "y = torch.FloatTensor([0.0, 1, 0, 0, 0, 0, 0, 0, 0, 0, \n",
    "                      0, 0, 0, 0, 0, 0, 0, 0, 0, 0,\n",
    "                      0, 0, 0, 0, 0, 0, 0, 0, 0, 0,\n",
    "                      0, 0, 0, 0, 0, 0, 0, 0, 0, 0])\n",
    "x = torch.randn((32, 3, 112, 92), requires_grad=True)\n",
    "optimizer = optim.Adam([x], lr=0.001)\n",
    "images, labels = image_train(x, y, optimizer, net, 1000)"
   ]
  },
  {
   "cell_type": "code",
   "execution_count": 69,
   "metadata": {},
   "outputs": [
    {
     "name": "stdout",
     "output_type": "stream",
     "text": [
      "Trained Image True Label: s10 (1)\n",
      "Predicted probability for the class:  0.5511451959609985\n"
     ]
    },
    {
     "data": {
      "text/plain": [
       "<matplotlib.image.AxesImage at 0x1cb3bd2b3d0>"
      ]
     },
     "execution_count": 69,
     "metadata": {},
     "output_type": "execute_result"
    },
    {
     "data": {
      "image/png": "[encoded data removed]",
      "text/plain": [
       "<Figure size 432x288 with 1 Axes>"
      ]
     },
     "metadata": {
      "needs_background": "light"
     },
     "output_type": "display_data"
    }
   ],
   "source": [
    "print(\"Trained Image True Label: {} ({})\".format(orig_set.classes[torch.argmax(labels).item()], torch.argmax(labels).item()))\n",
    "\n",
    "y_pred = net(images)\n",
    "prob = torch.softmax(y_pred, -1)\n",
    "\n",
    "# label_name = orig_set.classes[prob.argmax().item()]\n",
    "# index = prob.argmax().item()\n",
    "\n",
    "# print(\"Trained Image Predicted Label: {} ({}) \".format(orig_set.classes[prob.argmax().item()], prob.argmax().item()))\n",
    "print(\"Predicted probability for the class: \", prob.max().item())\n",
    "\n",
    "pic = images.detach().numpy()\n",
    "# print(pic.shape)\n",
    "pic_1 = pic[0,0,:,:]\n",
    "plt.imshow(pic_1, cmap='Greys', interpolation='nearest')"
   ]
  },
  {
   "cell_type": "code",
   "execution_count": null,
   "metadata": {},
   "outputs": [],
   "source": []
  }
 ],
 "metadata": {
  "colab": {
   "name": "pet_trial_2.ipynb",
   "provenance": []
  },
  "kernelspec": {
   "display_name": "Python 3",
   "language": "python",
   "name": "python3"
  },
  "language_info": {
   "codemirror_mode": {
    "name": "ipython",
    "version": 3
   },
   "file_extension": ".py",
   "mimetype": "text/x-python",
   "name": "python",
   "nbconvert_exporter": "python",
   "pygments_lexer": "ipython3",
   "version": "3.8.8"
  }
 },
 "nbformat": 4,
 "nbformat_minor": 1
}
